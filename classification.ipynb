{
  "nbformat": 4,
  "nbformat_minor": 0,
  "metadata": {
    "colab": {
      "provenance": [],
      "gpuType": "T4"
    },
    "kernelspec": {
      "name": "python3",
      "display_name": "Python 3"
    },
    "language_info": {
      "name": "python"
    },
    "accelerator": "GPU"
  },
  "cells": [
    {
      "cell_type": "code",
      "execution_count": 1,
      "metadata": {
        "colab": {
          "base_uri": "https://localhost:8080/"
        },
        "id": "rb1sR4DbLOu5",
        "outputId": "ba71f3d0-47c8-4d12-d0a0-c3307b3eda17"
      },
      "outputs": [
        {
          "output_type": "stream",
          "name": "stdout",
          "text": [
            "--2023-06-13 09:57:03--  https://files.consumerfinance.gov/ccdb/complaints.csv.zip\n",
            "Resolving files.consumerfinance.gov (files.consumerfinance.gov)... 52.84.45.28, 52.84.45.27, 52.84.45.65, ...\n",
            "Connecting to files.consumerfinance.gov (files.consumerfinance.gov)|52.84.45.28|:443... connected.\n",
            "HTTP request sent, awaiting response... 200 OK\n",
            "Length: 565215793 (539M) [binary/octet-stream]\n",
            "Saving to: ‘complaints.csv.zip’\n",
            "\n",
            "complaints.csv.zip  100%[===================>] 539.03M  13.2MB/s    in 37s     \n",
            "\n",
            "2023-06-13 09:57:41 (14.6 MB/s) - ‘complaints.csv.zip’ saved [565215793/565215793]\n",
            "\n"
          ]
        }
      ],
      "source": [
        "!wget https://files.consumerfinance.gov/ccdb/complaints.csv.zip"
      ]
    },
    {
      "cell_type": "code",
      "source": [
        "import pandas as pd\n",
        "from sklearn.model_selection import train_test_split,cross_val_score\n",
        "from sklearn.feature_extraction.text import TfidfVectorizer\n",
        "from sklearn.feature_selection import SelectKBest, chi2\n",
        "from sklearn.preprocessing import LabelEncoder\n",
        "from sklearn.ensemble import RandomForestClassifier"
      ],
      "metadata": {
        "id": "FKgopytPLfC7"
      },
      "execution_count": 2,
      "outputs": []
    },
    {
      "cell_type": "code",
      "source": [
        "!unzip complaints.csv.zip\n",
        "\n",
        "chunk = pd.read_csv('complaints.csv',chunksize=1000000, dtype=object)\n",
        "df = pd.concat(chunk)"
      ],
      "metadata": {
        "colab": {
          "base_uri": "https://localhost:8080/"
        },
        "id": "9WvnVSNNLnQ1",
        "outputId": "461e0bc7-68f9-4dcf-eb35-396e32050f7e"
      },
      "execution_count": 3,
      "outputs": [
        {
          "output_type": "stream",
          "name": "stdout",
          "text": [
            "Archive:  complaints.csv.zip\n",
            "  inflating: complaints.csv          \n"
          ]
        }
      ]
    },
    {
      "cell_type": "code",
      "source": [
        "df = df[['Consumer complaint narrative','Product']]\n",
        "print(df.head())"
      ],
      "metadata": {
        "colab": {
          "base_uri": "https://localhost:8080/"
        },
        "id": "SJwfRmOaLqe9",
        "outputId": "56ab4cda-8c2e-4962-b16b-9e22aed8bf7d"
      },
      "execution_count": 4,
      "outputs": [
        {
          "output_type": "stream",
          "name": "stdout",
          "text": [
            "                        Consumer complaint narrative  \\\n",
            "0                                                NaN   \n",
            "1  Please help ASAP, Ive found the following acco...   \n",
            "2                                                NaN   \n",
            "3                                                NaN   \n",
            "4                                                NaN   \n",
            "\n",
            "                                             Product  \n",
            "0          Payday loan, title loan, or personal loan  \n",
            "1  Credit reporting, credit repair services, or o...  \n",
            "2  Credit reporting, credit repair services, or o...  \n",
            "3  Credit reporting, credit repair services, or o...  \n",
            "4  Credit reporting, credit repair services, or o...  \n"
          ]
        }
      ]
    },
    {
      "cell_type": "code",
      "source": [
        "classification_categories = ['Credit reporting, credit repair services, or other personal consumer reports','Debt collection','Consumer Loan','Mortgage']\n",
        "\n",
        "df = df[df['Product'].isin(classification_categories)]\n",
        "print(df.head())"
      ],
      "metadata": {
        "colab": {
          "base_uri": "https://localhost:8080/"
        },
        "id": "IXUMnaxeMAN_",
        "outputId": "dc1c4b99-15ba-461d-aaa7-eb9f0555fb78"
      },
      "execution_count": 5,
      "outputs": [
        {
          "output_type": "stream",
          "name": "stdout",
          "text": [
            "                        Consumer complaint narrative  \\\n",
            "1  Please help ASAP, Ive found the following acco...   \n",
            "2                                                NaN   \n",
            "3                                                NaN   \n",
            "4                                                NaN   \n",
            "5  Please consider this as my formal complaint to...   \n",
            "\n",
            "                                             Product  \n",
            "1  Credit reporting, credit repair services, or o...  \n",
            "2  Credit reporting, credit repair services, or o...  \n",
            "3  Credit reporting, credit repair services, or o...  \n",
            "4  Credit reporting, credit repair services, or o...  \n",
            "5  Credit reporting, credit repair services, or o...  \n"
          ]
        }
      ]
    },
    {
      "cell_type": "code",
      "source": [
        "print('\\nBefore dropping the nulls')\n",
        "print('Null count', df.isna().sum())\n",
        "print('Total rows of data', len(df))\n",
        "df.dropna(inplace=True)\n",
        "print('='*80)\n",
        "print('After dropping the nulls')\n",
        "print('Null count', df.isna().sum())\n",
        "print('Total rows of data', len(df))\n",
        "\n",
        "print(\"\\n\")\n",
        "print(df.head())\n",
        "print('\\nShape of data',df.shape)"
      ],
      "metadata": {
        "colab": {
          "base_uri": "https://localhost:8080/"
        },
        "id": "uGMPVsdeMCAU",
        "outputId": "7a608f3c-d1c0-4cd2-fac1-73bae06e699c"
      },
      "execution_count": 6,
      "outputs": [
        {
          "output_type": "stream",
          "name": "stdout",
          "text": [
            "\n",
            "Before dropping the nulls\n",
            "Null count Consumer complaint narrative    1827170\n",
            "Product                               0\n",
            "dtype: int64\n",
            "Total rows of data 2834189\n",
            "================================================================================\n",
            "After dropping the nulls\n",
            "Null count Consumer complaint narrative    0\n",
            "Product                         0\n",
            "dtype: int64\n",
            "Total rows of data 1007019\n",
            "\n",
            "\n",
            "                          Consumer complaint narrative  \\\n",
            "1    Please help ASAP, Ive found the following acco...   \n",
            "5    Please consider this as my formal complaint to...   \n",
            "8    XXXX deleted this debt from my credit report b...   \n",
            "21   I never received a bill or heard anything from...   \n",
            "110  Seriously, it's been months since I investigat...   \n",
            "\n",
            "                                               Product  \n",
            "1    Credit reporting, credit repair services, or o...  \n",
            "5    Credit reporting, credit repair services, or o...  \n",
            "8                                      Debt collection  \n",
            "21                                     Debt collection  \n",
            "110  Credit reporting, credit repair services, or o...  \n",
            "\n",
            "Shape of data (1007019, 2)\n"
          ]
        }
      ]
    },
    {
      "cell_type": "code",
      "source": [
        "print(\"\\n\\nTest reain split\\n\")\n",
        "X_train, X_test, y_train, y_test = train_test_split(\n",
        "                            df['Consumer complaint narrative'], df['Product'],\n",
        "                        test_size=0.15, random_state=0, stratify=df['Product'])\n",
        "\n",
        "X_train, X_val, y_train, y_val = train_test_split(\n",
        "                            X_train, y_train,\n",
        "                        test_size=0.25, random_state=0, stratify=y_train)\n",
        "\n",
        "print(f'Training utterances: {len(X_train)} of shape {X_train.shape}')\n",
        "print(f'Validation utterances: {len(X_val)} of shape {X_val.shape}')\n",
        "print(f'Testing utterances: {len(X_test)} of shape {X_test.shape}\\n')"
      ],
      "metadata": {
        "colab": {
          "base_uri": "https://localhost:8080/"
        },
        "id": "RjrIHbUGMD7d",
        "outputId": "5008529c-e2f1-427b-e96c-015a44aeea6b"
      },
      "execution_count": 7,
      "outputs": [
        {
          "output_type": "stream",
          "name": "stdout",
          "text": [
            "\n",
            "\n",
            "Test reain split\n",
            "\n",
            "Training utterances: 641974 of shape (641974,)\n",
            "Validation utterances: 213992 of shape (213992,)\n",
            "Testing utterances: 151053 of shape (151053,)\n",
            "\n"
          ]
        }
      ]
    },
    {
      "cell_type": "code",
      "source": [
        "vectorizer = TfidfVectorizer(stop_words= 'english')\n",
        "X_train_vec = vectorizer.fit_transform(X_train)\n",
        "X_val_vec = vectorizer.transform(X_val)\n",
        "X_test_vec  = vectorizer.transform(X_test)"
      ],
      "metadata": {
        "id": "S8XvuPPfMGO9"
      },
      "execution_count": 8,
      "outputs": []
    },
    {
      "cell_type": "code",
      "source": [
        "n_features=100\n",
        "\n",
        "#print(X_train_vec)\n",
        "ch2 = SelectKBest(chi2, k=n_features)\n",
        "X_train_sp = ch2.fit_transform(X_train_vec, y_train)\n",
        "X_val_sp  = ch2.transform(X_val_vec)\n",
        "X_test_sp  = ch2.transform(X_test_vec)\n"
      ],
      "metadata": {
        "id": "WsVv3mY8MIu2"
      },
      "execution_count": 9,
      "outputs": []
    },
    {
      "cell_type": "code",
      "source": [
        "columns = list(range(n_features))\n",
        "\n",
        "X_train_dense = pd.DataFrame(data=X_train_sp.toarray(), columns=columns)\n",
        "X_val_dense  = pd.DataFrame(data=X_val_sp.toarray(), columns=columns)\n",
        "X_test_dense  = pd.DataFrame(data=X_test_sp.toarray(), columns=columns)\n",
        "print(X_train_dense.shape, X_test_dense.shape)\n",
        "#print(X_train_dense)\n",
        "print(y_train.shape,y_test.shape)\n",
        "print(type(y_train.shape),type(y_test.shape))\n",
        "print(y_train,y_test)"
      ],
      "metadata": {
        "colab": {
          "base_uri": "https://localhost:8080/"
        },
        "id": "OiVYiL2qMLGk",
        "outputId": "39b043b0-7925-4b30-a00e-8fed961f7439"
      },
      "execution_count": 10,
      "outputs": [
        {
          "output_type": "stream",
          "name": "stdout",
          "text": [
            "(641974, 100) (151053, 100)\n",
            "(641974,) (151053,)\n",
            "<class 'tuple'> <class 'tuple'>\n",
            "1490824    Credit reporting, credit repair services, or o...\n",
            "961723     Credit reporting, credit repair services, or o...\n",
            "848300     Credit reporting, credit repair services, or o...\n",
            "2283605    Credit reporting, credit repair services, or o...\n",
            "1271272    Credit reporting, credit repair services, or o...\n",
            "                                 ...                        \n",
            "711624     Credit reporting, credit repair services, or o...\n",
            "2181025    Credit reporting, credit repair services, or o...\n",
            "2377714    Credit reporting, credit repair services, or o...\n",
            "1858639    Credit reporting, credit repair services, or o...\n",
            "537096                                       Debt collection\n",
            "Name: Product, Length: 641974, dtype: object 1298002    Credit reporting, credit repair services, or o...\n",
            "3278297    Credit reporting, credit repair services, or o...\n",
            "712695     Credit reporting, credit repair services, or o...\n",
            "677505                                              Mortgage\n",
            "3284273                                      Debt collection\n",
            "                                 ...                        \n",
            "3284676    Credit reporting, credit repair services, or o...\n",
            "2713386    Credit reporting, credit repair services, or o...\n",
            "2361836    Credit reporting, credit repair services, or o...\n",
            "1682306                                             Mortgage\n",
            "960293     Credit reporting, credit repair services, or o...\n",
            "Name: Product, Length: 151053, dtype: object\n"
          ]
        }
      ]
    },
    {
      "cell_type": "code",
      "source": [
        "encoder = LabelEncoder()\n",
        "y_train_num  = encoder.fit_transform(y_train)\n",
        "y_val_num   = encoder.transform(y_val)\n",
        "y_test_num   = encoder.transform(y_test)\n",
        "\n",
        "print(type(y_train_num),y_train_num)\n",
        "\n",
        "mapping = {l: i for i, l in enumerate(encoder.classes_)}\n",
        "print(mapping)"
      ],
      "metadata": {
        "colab": {
          "base_uri": "https://localhost:8080/"
        },
        "id": "R3ZT24WZMPTV",
        "outputId": "04322264-941b-4345-b424-893acdf9a93c"
      },
      "execution_count": 11,
      "outputs": [
        {
          "output_type": "stream",
          "name": "stdout",
          "text": [
            "<class 'numpy.ndarray'> [1 1 1 ... 1 1 2]\n",
            "{'Consumer Loan': 0, 'Credit reporting, credit repair services, or other personal consumer reports': 1, 'Debt collection': 2, 'Mortgage': 3}\n"
          ]
        }
      ]
    },
    {
      "cell_type": "code",
      "source": [
        "rf_model  = RandomForestClassifier(n_estimators=200, random_state=39, n_jobs = -1)\n",
        "print(y_train_num)\n",
        "\"\"\"scores = cross_val_score(rf_model,\n",
        "                         X_train_dense,\n",
        "                         y_train_num,\n",
        "                         cv=5,\n",
        "                         n_jobs = -1,\n",
        "                         scoring = 'accuracy')\n",
        "scores.mean()\n",
        "\"\"\"\n"
      ],
      "metadata": {
        "colab": {
          "base_uri": "https://localhost:8080/",
          "height": 70
        },
        "id": "sSbUF5qoMR8O",
        "outputId": "2ef57fca-b619-464e-b14a-65a9f73b3fcb"
      },
      "execution_count": 12,
      "outputs": [
        {
          "output_type": "stream",
          "name": "stdout",
          "text": [
            "[1 1 1 ... 1 1 2]\n"
          ]
        },
        {
          "output_type": "execute_result",
          "data": {
            "text/plain": [
              "\"scores = cross_val_score(rf_model,\\n                         X_train_dense,\\n                         y_train_num,\\n                         cv=5,\\n                         n_jobs = -1,\\n                         scoring = 'accuracy')\\nscores.mean()\\n\""
            ],
            "application/vnd.google.colaboratory.intrinsic+json": {
              "type": "string"
            }
          },
          "metadata": {},
          "execution_count": 12
        }
      ]
    },
    {
      "cell_type": "code",
      "source": [
        "#print(rf_model.score(X_test_dense, y_test_num))\n",
        "rf_model.fit(X_train_dense, y_train_num)\n",
        "preds=rf_model.predict(X_val_dense)\n",
        "print('validation accuract')\n",
        "report = pd.DataFrame(columns=['Complaint','Actual Product','Prediction'])\n",
        "report['Complaint']      = X_val\n",
        "report['Actual Product'] = y_val_num\n",
        "report['Prediction']     = preds\n",
        "report['Correct'] = (report['Actual Product'] == report['Prediction']).astype('int')\n",
        "print(report)\n",
        "print(f'Accuracy: {100*report.Correct.sum()/report.Correct.count()} %')"
      ],
      "metadata": {
        "colab": {
          "base_uri": "https://localhost:8080/"
        },
        "id": "-JAEKl3QMUxF",
        "outputId": "8e0d7ccb-7e40-4145-bcfe-2492345e8fc8"
      },
      "execution_count": 15,
      "outputs": [
        {
          "output_type": "stream",
          "name": "stdout",
          "text": [
            "validation accuract\n",
            "                                                 Complaint  Actual Product  \\\n",
            "2574822  To whom this may concern at the Consumer Finan...               1   \n",
            "1141608  This is not a duplicate nor is this complaint ...               1   \n",
            "1564589  I received a copy of my credit report and I ha...               1   \n",
            "349905   In accordance with the Fair Credit Reporting A...               1   \n",
            "2844631  Escallate LLC is demanding that I pay {$450.00...               2   \n",
            "...                                                    ...             ...   \n",
            "1034111  The mortgage was paid in full on XX/XX/2021 an...               3   \n",
            "3365275  I have no idea who this caller is but I've blo...               2   \n",
            "3254123  Yesterday I learned that my Experian report sa...               1   \n",
            "3701981  I have an unverified account from CMI. I had p...               2   \n",
            "2005486  My XX/XX/2020 payment shows I was over 30 days...               1   \n",
            "\n",
            "         Prediction  Correct  \n",
            "2574822           1        1  \n",
            "1141608           1        1  \n",
            "1564589           1        1  \n",
            "349905            1        1  \n",
            "2844631           2        1  \n",
            "...             ...      ...  \n",
            "1034111           3        1  \n",
            "3365275           2        1  \n",
            "3254123           1        1  \n",
            "3701981           2        1  \n",
            "2005486           1        1  \n",
            "\n",
            "[213992 rows x 4 columns]\n",
            "Accuracy: 91.58847059703166 %\n"
          ]
        }
      ]
    },
    {
      "cell_type": "code",
      "source": [
        "\n",
        "preds=rf_model.predict(X_test_dense)\n",
        "print('test accuract')\n",
        "report = pd.DataFrame(columns=['Complaint','Actual Product','Prediction'])\n",
        "report['Complaint']      = X_test\n",
        "report['Actual Product'] = y_test_num\n",
        "report['Prediction']     = preds\n",
        "report['Correct'] = (report['Actual Product'] == report['Prediction']).astype('int')\n",
        "print(report)\n",
        "print(f'Accuracy: {100*report.Correct.sum()/report.Correct.count()} %')"
      ],
      "metadata": {
        "id": "jDJJUtWhMX_1",
        "colab": {
          "base_uri": "https://localhost:8080/"
        },
        "outputId": "c7c611cc-2381-4277-9384-1deea4b5f9ae"
      },
      "execution_count": 16,
      "outputs": [
        {
          "output_type": "stream",
          "name": "stdout",
          "text": [
            "validation accuract\n",
            "                                                 Complaint  Actual Product  \\\n",
            "1298002  I've filed a dispute about my credit report an...               1   \n",
            "3278297  In accordance with the Fair Credit Reporting A...               1   \n",
            "712695   I mailed Transunion & XXXX  a letter on XX/XX/...               1   \n",
            "677505   On XXXX, I paid UNITED WHOLESALE MORTGAGE {$25...               3   \n",
            "3284273  Seized my car. Debt was XXXX. Continue to thre...               2   \n",
            "...                                                    ...             ...   \n",
            "3284676  According to the Fair Credit Reporting Act, Se...               1   \n",
            "2713386  transunion is tryiing to commit an error sayin...               1   \n",
            "2361836  I have a closed account on my credit report th...               1   \n",
            "1682306  I closed on my house XX/XX/XXXX. On XX/XX/XXXX...               3   \n",
            "960293   I applied for XXXXXXXX XXXX credit card with X...               1   \n",
            "\n",
            "         Prediction  Correct  \n",
            "1298002           1        1  \n",
            "3278297           1        1  \n",
            "712695            1        1  \n",
            "677505            3        1  \n",
            "3284273           2        1  \n",
            "...             ...      ...  \n",
            "3284676           1        1  \n",
            "2713386           1        1  \n",
            "2361836           1        1  \n",
            "1682306           3        1  \n",
            "960293            1        1  \n",
            "\n",
            "[151053 rows x 4 columns]\n",
            "Accuracy: 91.56124009453636 %\n"
          ]
        }
      ]
    },
    {
      "cell_type": "code",
      "source": [],
      "metadata": {
        "id": "D3_GU8GaP6z-"
      },
      "execution_count": null,
      "outputs": []
    }
  ]
}